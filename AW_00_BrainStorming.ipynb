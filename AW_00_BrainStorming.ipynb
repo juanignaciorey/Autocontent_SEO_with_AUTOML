{
  "nbformat": 4,
  "nbformat_minor": 0,
  "metadata": {
    "colab": {
      "name": "AW-01-BrainStorming.ipynb",
      "provenance": [],
      "toc_visible": true,
      "authorship_tag": "ABX9TyPUSSXeYEJ6L/ZyOnDRvjBH",
      "include_colab_link": true
    },
    "kernelspec": {
      "name": "python3",
      "display_name": "Python 3"
    },
    "language_info": {
      "name": "python"
    }
  },
  "cells": [
    {
      "cell_type": "markdown",
      "metadata": {
        "id": "view-in-github",
        "colab_type": "text"
      },
      "source": [
        "<a href=\"https://colab.research.google.com/github/juanignaciorey/Autocontent_SEO_with_AUTOML/blob/main/AW_00_BrainStorming.ipynb\" target=\"_parent\"><img src=\"https://colab.research.google.com/assets/colab-badge.svg\" alt=\"Open In Colab\"/></a>"
      ]
    },
    {
      "cell_type": "markdown",
      "metadata": {
        "id": "B-q0VQcR02wu"
      },
      "source": [
        "En Ciencia de datos, el aspecto más importante es la recopilación de datos. \n",
        "\n",
        "Podriamos obtener datos a través de varias plataformas, incluyendo Kaggle, Google, datos visuales, etc. Pero como nuestro objetivo son webs que rankeen en google...  vamos a tener que hacer scraping ahi.\n",
        "\n",
        "La idea seria scrapear webs que nos permitan ir infinitamente hacia abajo. \n",
        "\n",
        "Para scrapear usaremos Beatifull soup ypara desplazar Seleniun\n",
        "\n",
        "La idea seria utilizar una palabra clave... que estudie el contexto y mediante "
      ]
    },
    {
      "cell_type": "markdown",
      "metadata": {
        "id": "ox1YeMJLXoUT"
      },
      "source": [
        "## Pillar Topics\n",
        "\n",
        "Para hacer las autowebs debo elegir temas... \n",
        "\n",
        "Y luego se descargar automaticamente de gestores:\n",
        "- P2P torrent\n",
        "- mega/mediafire"
      ]
    },
    {
      "cell_type": "markdown",
      "metadata": {
        "id": "RSbrLrhaYNWL"
      },
      "source": [
        "CPC mas alto - informativas y con adsense. Ej Hostings"
      ]
    },
    {
      "cell_type": "code",
      "metadata": {
        "id": "T966AeT2XxsE"
      },
      "source": [
        "Vamos a hacer de Warez ya que son sumamente automatizables.\n",
        "\n",
        "Entra en modo incognito en tu navegador.\n",
        "\n",
        "Ve a Google.\n",
        "Busca Ex-Hentai.\n",
        "Ingresa a Ex-Hentai a través de la búsqueda de Google.\n",
        "https://e-hentai.org/"
      ],
      "execution_count": null,
      "outputs": []
    },
    {
      "cell_type": "code",
      "metadata": {
        "cellView": "form",
        "id": "yYM_3tjpkHN2"
      },
      "source": [
        "#@title Instalacion de librerias\n",
        "import os\n",
        "import time\n",
        "\n",
        "warnings.filterwarnings('ignore')\n",
        "%matplotlib inline"
      ],
      "execution_count": null,
      "outputs": []
    },
    {
      "cell_type": "code",
      "metadata": {
        "cellView": "form",
        "id": "qV3KYFoegdvD"
      },
      "source": [
        "#@title Instalacion de paquetes\n",
        "!pip install selenium\n",
        "!apt-get update # to update ubuntu to correctly run apt install\n",
        "!apt install chromium-chromedriver\n",
        "!cp /usr/lib/chromium-browser/chromedriver /usr/bin"
      ],
      "execution_count": null,
      "outputs": []
    },
    {
      "cell_type": "code",
      "metadata": {
        "cellView": "form",
        "id": "19lAYydSgru3"
      },
      "source": [
        "#@title Configuracion de Selenium Browser\n",
        "import sys\n",
        "sys.path.insert(0,'/usr/lib/chromium-browser/chromedriver')\n",
        "from selenium import webdriver\n",
        "chrome_options = webdriver.ChromeOptions()\n",
        "chrome_options.add_argument('--headless')\n",
        "chrome_options.add_argument('--no-sandbox')\n",
        "chrome_options.add_argument('--disable-dev-shm-usage')\n",
        "browser = webdriver.Chrome('chromedriver',chrome_options=chrome_options)\n",
        "browser.get(\"https://www.webite-url.com\")"
      ],
      "execution_count": null,
      "outputs": []
    },
    {
      "cell_type": "code",
      "metadata": {
        "id": "OPqgLXpGgR4X"
      },
      "source": [
        "# 1. Inicia sesión en E-Hentai. \n",
        "browser.get(\"https://e-hentai.org/bounce_login.php?b=d&bt=1-1\")\n",
        "\n",
        "username = browser.find_element_by_name(\"UserName\")\n",
        "password = browser.find_element_by_name(\"PassWord\")\n",
        "\n",
        "username.send_keys(\"mitaku.net\")\n",
        "password.send_keys(\"roedor39727900\")\n",
        "browser.find_element_by_name(\"ipb_login_submit\").click()"
      ],
      "execution_count": null,
      "outputs": []
    },
    {
      "cell_type": "code",
      "metadata": {
        "id": "1Tlala92huIt"
      },
      "source": [
        "browser.get(\"https://exhentai.org/\")"
      ],
      "execution_count": null,
      "outputs": []
    },
    {
      "cell_type": "code",
      "metadata": {
        "id": "GHsxG8tulAIi"
      },
      "source": [
        "warez_list = [\"Download\", \"mega\"]\n",
        "nicho_list = [\"Set\", \"pack\", \"cosplay\"]\n",
        "query_list = [\"Hanna Bunny\", \"Belle Delphine\"]"
      ],
      "execution_count": null,
      "outputs": []
    },
    {
      "cell_type": "code",
      "metadata": {
        "colab": {
          "base_uri": "https://localhost:8080/"
        },
        "id": "Nb32UwrUk0fY",
        "outputId": "b045c65a-bfaa-4c41-cfb6-14625976e9c2"
      },
      "source": [
        "for j in query_list:\n",
        "    for i in search(j,  tld='com', lang='en', num=5, start=0, stop=1, pause=2.0):\n",
        "        print (i)"
      ],
      "execution_count": null,
      "outputs": [
        {
          "output_type": "stream",
          "text": [
            "https://mitaku.net/ero-cosplay/hana-bunny-2b-lingerie-set-2/\n",
            "https://www.pinterest.com/pin/782289397763371768/\n",
            "https://dirtyship.com/performer/hana-bunny/?order=photos\n"
          ],
          "name": "stdout"
        }
      ]
    },
    {
      "cell_type": "markdown",
      "metadata": {
        "id": "ndzVOiSaoRoW"
      },
      "source": [
        ""
      ]
    },
    {
      "cell_type": "code",
      "metadata": {
        "id": "bSX2qVOhoSIa"
      },
      "source": [
        "# %cd gdrive/My Drive/project_folder\n",
        "!git clone https://github.com/nittolese/gquestions.git\n",
        "!git pull"
      ],
      "execution_count": null,
      "outputs": []
    },
    {
      "cell_type": "code",
      "metadata": {
        "id": "i3adgJzSo2pd"
      },
      "source": [
        "%cd gquestions\n",
        "!pip install -r requirements.txt"
      ],
      "execution_count": null,
      "outputs": []
    },
    {
      "cell_type": "code",
      "metadata": {
        "id": "LoOiaegFpDpX"
      },
      "source": [
        "!python gquestions.py query \"flights\" en --headless "
      ],
      "execution_count": null,
      "outputs": []
    },
    {
      "cell_type": "code",
      "metadata": {
        "id": "yMlFgnaDqjws"
      },
      "source": [
        "\"\"\"\n",
        "from google.colab import drive \n",
        "drive.mount ('/ content / gdrive')\n",
        "% cd gdrive / Mi unidad /carpeta de proyecto/ cloned_repo_folder\n",
        "! git pull\n",
        "\"\"\""
      ],
      "execution_count": null,
      "outputs": []
    },
    {
      "cell_type": "code",
      "metadata": {
        "id": "IpSZc9Tfo5wO"
      },
      "source": [
        "python gquestions.py query \"flights\" en\n",
        "Search headlessly \"flights\" in English and export in html\n",
        "\n",
        "python gquestions.py query \"flights\" en --headless   \n",
        "\n",
        "Search \"vuelos\" in Spanish and export in html and csv\n",
        "\n",
        "python gquestions.py query \"vuelos\" es --csv\n",
        "Search \"vuelos\" in Spanish with a depth of 1 and export in html\n",
        "\n",
        "python gquestions.py query \"vuelos\" es depth 1 \n",
        "Advanced use: using operators with queries:\n",
        "\n",
        "python gquestions.py query '\"vpn\" site:https://protonmail.com/blog' en --csv"
      ],
      "execution_count": null,
      "outputs": []
    },
    {
      "cell_type": "markdown",
      "metadata": {
        "id": "IjSVQCIw4_fq"
      },
      "source": [
        "### 1. Scrapear Imagenes de Google"
      ]
    },
    {
      "cell_type": "markdown",
      "metadata": {
        "id": "tr3Fu-295Mpk"
      },
      "source": [
        "#### Consideraciones \n",
        "\n",
        "https://www.searchenginejournal.com/generate-text-from-images-with-python/324001/\n",
        "\n",
        "Infraesructura:\n",
        "1. Peso(formato de ultima generación)\n",
        "\n",
        "SEO:\n",
        "1. Ayudan a entender de que es el articulo\n",
        "2. providing alt text and captions\n",
        "4. [Badage](https://developers.google.com/search/blog/2017/08/badges-on-image-search-help-users-find)"
      ]
    },
    {
      "cell_type": "markdown",
      "metadata": {
        "id": "lW9T7fSY5cIM"
      },
      "source": [
        "<img src=\"https://media.geeksforgeeks.org/wp-content/uploads/geeks-25.png\" \n",
        "alt=\"gfglogo\" style=\"width:50%\">\n",
        "\n",
        "<figcaption>GeeksforGeeks Logo</figcaption>"
      ]
    },
    {
      "cell_type": "markdown",
      "metadata": {
        "id": "pma5hyVi_7Tf"
      },
      "source": [
        "#### Comencemos con el código:"
      ]
    },
    {
      "cell_type": "code",
      "metadata": {
        "id": "8cNOT2-w1qn3"
      },
      "source": [
        "#@title Instalacion de librerias\n",
        "import os\n",
        "from selenium.webdriver.common.keys import Keys\n",
        "import time\n",
        "\n",
        "warnings.filterwarnings('ignore')\n",
        "%matplotlib inline"
      ],
      "execution_count": null,
      "outputs": []
    },
    {
      "cell_type": "code",
      "metadata": {
        "id": "aL3V3mGmJLD0"
      },
      "source": [
        "# Lista de keywords\n",
        "\n",
        "# Obtener mas traduciendo de otros lenguajes\n",
        "# Chinese Spanish French Russian Japanese Korean German Italian \n",
        "\n",
        "# 2 Remover duplicados\n",
        "\n",
        "# Guardar Dataframes\n",
        "# Encoding Data\n",
        "# Split Dataset"
      ],
      "execution_count": null,
      "outputs": []
    },
    {
      "cell_type": "markdown",
      "metadata": {
        "id": "CGxfQmttJHNp"
      },
      "source": [
        "Scrapear"
      ]
    }
  ]
}